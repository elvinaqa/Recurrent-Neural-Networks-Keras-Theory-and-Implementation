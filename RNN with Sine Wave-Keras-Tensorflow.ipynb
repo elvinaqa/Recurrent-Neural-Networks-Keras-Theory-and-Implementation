{
 "cells": [
  {
   "cell_type": "code",
   "execution_count": 1,
   "metadata": {},
   "outputs": [],
   "source": [
    "# RNN - are used in SEQUENCES - such as, Time Series (Sales), Sentence (completion), Audio,  Car Trajectories, Music"
   ]
  },
  {
   "cell_type": "code",
   "execution_count": 2,
   "metadata": {},
   "outputs": [],
   "source": [
    "# Order is essential"
   ]
  },
  {
   "cell_type": "code",
   "execution_count": 3,
   "metadata": {},
   "outputs": [],
   "source": [
    "# For time series data,to know what history holds, (in order to predict future),output of neuron is also fed back to itself"
   ]
  },
  {
   "cell_type": "code",
   "execution_count": 4,
   "metadata": {},
   "outputs": [],
   "source": [
    "# Recurrent Neuron"
   ]
  },
  {
   "cell_type": "code",
   "execution_count": 5,
   "metadata": {},
   "outputs": [],
   "source": [
    "# RNNs have different kind of input and output formats and fully flexible in terms of that\n",
    "# Sequence to Sequence - Many to Many -> Give 5 words, predict next 5 words\n",
    "# Sequence to Vector - Many to One -> Give 5 words, predict next 1 word - Text Generation\n",
    "# Vector to Sequence - One to Many -> Give 1 words, predict next 5 words\n"
   ]
  },
  {
   "cell_type": "code",
   "execution_count": 6,
   "metadata": {},
   "outputs": [],
   "source": [
    "# Basic RNN's disadvantage is - it only remembers ONE step back, cant keep track of longer history"
   ]
  },
  {
   "cell_type": "markdown",
   "metadata": {},
   "source": [
    "Exploding and Vanishing Gradients - "
   ]
  },
  {
   "cell_type": "code",
   "execution_count": 8,
   "metadata": {},
   "outputs": [
    {
     "data": {
      "text/plain": [
       "'Backpropogation - when you go back to the input layer from the output layer in the end through hidden layers, changes in\\nweights and biases become so small that it doesnt modified at all '"
      ]
     },
     "execution_count": 8,
     "metadata": {},
     "output_type": "execute_result"
    }
   ],
   "source": [
    "'''Backpropogation - when you go back to the input layer from the output layer in the end through hidden layers, changes in\n",
    "weights and biases become so small that it doesnt modified at all - Gradient Vanishing'''"
   ]
  },
  {
   "cell_type": "code",
   "execution_count": 9,
   "metadata": {},
   "outputs": [],
   "source": [
    "# The opposite happen in the feed-forward models, in the way to the output layer from input, gradient values becomes so\n",
    "# significantly bigger that it change the values of bias and weights profoundly - Gradient Explotion"
   ]
  },
  {
   "cell_type": "markdown",
   "metadata": {},
   "source": [
    "Why those happen"
   ]
  },
  {
   "cell_type": "code",
   "execution_count": 10,
   "metadata": {},
   "outputs": [],
   "source": [
    "# When n hidden layers use activation function like sigmoid, n small DERIVATIVES are multiplied together making the \n",
    "# exponential descrease in the gradient values as the model backpropogates down to initial layers"
   ]
  },
  {
   "cell_type": "code",
   "execution_count": 11,
   "metadata": {},
   "outputs": [],
   "source": [
    "# Picture - derivative and itself of sigmoid"
   ]
  },
  {
   "cell_type": "code",
   "execution_count": 12,
   "metadata": {},
   "outputs": [],
   "source": [
    "# Thus, it is all about activation functions - to fix this issue, we can edit activation function itself\n",
    "# Rectified Linear Unit is widely used since it doesnt saturate bigger values\n",
    "# Leaky RELU, Exponential RELU, "
   ]
  },
  {
   "cell_type": "code",
   "execution_count": 13,
   "metadata": {},
   "outputs": [],
   "source": [
    "# Another solution is to use batch normalization which is normalizing each batch based on batch mean and std deviation"
   ]
  },
  {
   "cell_type": "code",
   "execution_count": 14,
   "metadata": {},
   "outputs": [],
   "source": [
    "# Gradient clipping is also used to put borders on gradient to prevent them becoming too big or too small"
   ]
  },
  {
   "cell_type": "markdown",
   "metadata": {},
   "source": [
    "Long Short Memory Neuron Units - LSTM"
   ]
  },
  {
   "cell_type": "code",
   "execution_count": 17,
   "metadata": {},
   "outputs": [],
   "source": [
    "import pandas as pd\n",
    "import numpy as np\n",
    "import matplotlib.pyplot as plt"
   ]
  },
  {
   "cell_type": "code",
   "execution_count": 18,
   "metadata": {},
   "outputs": [],
   "source": [
    "x = np.linspace(0,50, 501)"
   ]
  },
  {
   "cell_type": "code",
   "execution_count": 21,
   "metadata": {},
   "outputs": [],
   "source": [
    "y = np.sin(x)"
   ]
  },
  {
   "cell_type": "code",
   "execution_count": 23,
   "metadata": {},
   "outputs": [
    {
     "data": {
      "text/plain": [
       "[<matplotlib.lines.Line2D at 0x29de9ab6088>]"
      ]
     },
     "execution_count": 23,
     "metadata": {},
     "output_type": "execute_result"
    },
    {
     "data": {
      "image/png": "[encoded data removed]",
      "text/plain": [
       "<Figure size 432x288 with 1 Axes>"
      ]
     },
     "metadata": {
      "needs_background": "light"
     },
     "output_type": "display_data"
    }
   ],
   "source": [
    "plt.plot(x, y)"
   ]
  },
  {
   "cell_type": "code",
   "execution_count": 25,
   "metadata": {},
   "outputs": [],
   "source": [
    "df = pd.DataFrame(data=y, index=x, columns=['sine'])"
   ]
  },
  {
   "cell_type": "code",
   "execution_count": 26,
   "metadata": {},
   "outputs": [
    {
     "data": {
      "text/html": [
       "<div>\n",
       "<style scoped>\n",
       "    .dataframe tbody tr th:only-of-type {\n",
       "        vertical-align: middle;\n",
       "    }\n",
       "\n",
       "    .dataframe tbody tr th {\n",
       "        vertical-align: top;\n",
       "    }\n",
       "\n",
       "    .dataframe thead th {\n",
       "        text-align: right;\n",
       "    }\n",
       "</style>\n",
       "<table border=\"1\" class=\"dataframe\">\n",
       "  <thead>\n",
       "    <tr style=\"text-align: right;\">\n",
       "      <th></th>\n",
       "      <th>sine</th>\n",
       "    </tr>\n",
       "  </thead>\n",
       "  <tbody>\n",
       "    <tr>\n",
       "      <th>0.0</th>\n",
       "      <td>0.000000</td>\n",
       "    </tr>\n",
       "    <tr>\n",
       "      <th>0.1</th>\n",
       "      <td>0.099833</td>\n",
       "    </tr>\n",
       "    <tr>\n",
       "      <th>0.2</th>\n",
       "      <td>0.198669</td>\n",
       "    </tr>\n",
       "    <tr>\n",
       "      <th>0.3</th>\n",
       "      <td>0.295520</td>\n",
       "    </tr>\n",
       "    <tr>\n",
       "      <th>0.4</th>\n",
       "      <td>0.389418</td>\n",
       "    </tr>\n",
       "    <tr>\n",
       "      <th>...</th>\n",
       "      <td>...</td>\n",
       "    </tr>\n",
       "    <tr>\n",
       "      <th>49.6</th>\n",
       "      <td>-0.617439</td>\n",
       "    </tr>\n",
       "    <tr>\n",
       "      <th>49.7</th>\n",
       "      <td>-0.535823</td>\n",
       "    </tr>\n",
       "    <tr>\n",
       "      <th>49.8</th>\n",
       "      <td>-0.448854</td>\n",
       "    </tr>\n",
       "    <tr>\n",
       "      <th>49.9</th>\n",
       "      <td>-0.357400</td>\n",
       "    </tr>\n",
       "    <tr>\n",
       "      <th>50.0</th>\n",
       "      <td>-0.262375</td>\n",
       "    </tr>\n",
       "  </tbody>\n",
       "</table>\n",
       "<p>501 rows × 1 columns</p>\n",
       "</div>"
      ],
      "text/plain": [
       "          sine\n",
       "0.0   0.000000\n",
       "0.1   0.099833\n",
       "0.2   0.198669\n",
       "0.3   0.295520\n",
       "0.4   0.389418\n",
       "...        ...\n",
       "49.6 -0.617439\n",
       "49.7 -0.535823\n",
       "49.8 -0.448854\n",
       "49.9 -0.357400\n",
       "50.0 -0.262375\n",
       "\n",
       "[501 rows x 1 columns]"
      ]
     },
     "execution_count": 26,
     "metadata": {},
     "output_type": "execute_result"
    }
   ],
   "source": [
    "df"
   ]
  },
  {
   "cell_type": "code",
   "execution_count": 27,
   "metadata": {},
   "outputs": [
    {
     "data": {
      "text/plain": [
       "501"
      ]
     },
     "execution_count": 27,
     "metadata": {},
     "output_type": "execute_result"
    }
   ],
   "source": [
    "len(df)"
   ]
  },
  {
   "cell_type": "code",
   "execution_count": 28,
   "metadata": {},
   "outputs": [],
   "source": [
    "test_percent = 0.1\n",
    "# 10 percent to be test data\n"
   ]
  },
  {
   "cell_type": "code",
   "execution_count": 30,
   "metadata": {},
   "outputs": [
    {
     "data": {
      "text/plain": [
       "50.1"
      ]
     },
     "execution_count": 30,
     "metadata": {},
     "output_type": "execute_result"
    }
   ],
   "source": [
    "len(df) * test_percent"
   ]
  },
  {
   "cell_type": "code",
   "execution_count": 31,
   "metadata": {},
   "outputs": [],
   "source": [
    "test_point = np.round(len(df)* test_percent)"
   ]
  },
  {
   "cell_type": "code",
   "execution_count": 33,
   "metadata": {},
   "outputs": [
    {
     "data": {
      "text/plain": [
       "50.0"
      ]
     },
     "execution_count": 33,
     "metadata": {},
     "output_type": "execute_result"
    }
   ],
   "source": [
    "test_point"
   ]
  },
  {
   "cell_type": "code",
   "execution_count": 34,
   "metadata": {},
   "outputs": [],
   "source": [
    "test_index = int(len(df) - test_point)"
   ]
  },
  {
   "cell_type": "code",
   "execution_count": 35,
   "metadata": {},
   "outputs": [
    {
     "data": {
      "text/plain": [
       "451"
      ]
     },
     "execution_count": 35,
     "metadata": {},
     "output_type": "execute_result"
    }
   ],
   "source": [
    "test_index"
   ]
  },
  {
   "cell_type": "code",
   "execution_count": 36,
   "metadata": {},
   "outputs": [],
   "source": [
    "train = df.iloc[:test_index]\n",
    "test = df.iloc[test_index:]"
   ]
  },
  {
   "cell_type": "code",
   "execution_count": 37,
   "metadata": {},
   "outputs": [
    {
     "data": {
      "text/html": [
       "<div>\n",
       "<style scoped>\n",
       "    .dataframe tbody tr th:only-of-type {\n",
       "        vertical-align: middle;\n",
       "    }\n",
       "\n",
       "    .dataframe tbody tr th {\n",
       "        vertical-align: top;\n",
       "    }\n",
       "\n",
       "    .dataframe thead th {\n",
       "        text-align: right;\n",
       "    }\n",
       "</style>\n",
       "<table border=\"1\" class=\"dataframe\">\n",
       "  <thead>\n",
       "    <tr style=\"text-align: right;\">\n",
       "      <th></th>\n",
       "      <th>sine</th>\n",
       "    </tr>\n",
       "  </thead>\n",
       "  <tbody>\n",
       "    <tr>\n",
       "      <th>0.0</th>\n",
       "      <td>0.000000</td>\n",
       "    </tr>\n",
       "    <tr>\n",
       "      <th>0.1</th>\n",
       "      <td>0.099833</td>\n",
       "    </tr>\n",
       "    <tr>\n",
       "      <th>0.2</th>\n",
       "      <td>0.198669</td>\n",
       "    </tr>\n",
       "    <tr>\n",
       "      <th>0.3</th>\n",
       "      <td>0.295520</td>\n",
       "    </tr>\n",
       "    <tr>\n",
       "      <th>0.4</th>\n",
       "      <td>0.389418</td>\n",
       "    </tr>\n",
       "    <tr>\n",
       "      <th>...</th>\n",
       "      <td>...</td>\n",
       "    </tr>\n",
       "    <tr>\n",
       "      <th>44.6</th>\n",
       "      <td>0.579164</td>\n",
       "    </tr>\n",
       "    <tr>\n",
       "      <th>44.7</th>\n",
       "      <td>0.657656</td>\n",
       "    </tr>\n",
       "    <tr>\n",
       "      <th>44.8</th>\n",
       "      <td>0.729577</td>\n",
       "    </tr>\n",
       "    <tr>\n",
       "      <th>44.9</th>\n",
       "      <td>0.794208</td>\n",
       "    </tr>\n",
       "    <tr>\n",
       "      <th>45.0</th>\n",
       "      <td>0.850904</td>\n",
       "    </tr>\n",
       "  </tbody>\n",
       "</table>\n",
       "<p>451 rows × 1 columns</p>\n",
       "</div>"
      ],
      "text/plain": [
       "          sine\n",
       "0.0   0.000000\n",
       "0.1   0.099833\n",
       "0.2   0.198669\n",
       "0.3   0.295520\n",
       "0.4   0.389418\n",
       "...        ...\n",
       "44.6  0.579164\n",
       "44.7  0.657656\n",
       "44.8  0.729577\n",
       "44.9  0.794208\n",
       "45.0  0.850904\n",
       "\n",
       "[451 rows x 1 columns]"
      ]
     },
     "execution_count": 37,
     "metadata": {},
     "output_type": "execute_result"
    }
   ],
   "source": [
    "train"
   ]
  },
  {
   "cell_type": "code",
   "execution_count": 38,
   "metadata": {},
   "outputs": [],
   "source": [
    "from sklearn.preprocessing import MinMaxScaler\n",
    "scaler = MinMaxScaler()"
   ]
  },
  {
   "cell_type": "code",
   "execution_count": 39,
   "metadata": {},
   "outputs": [
    {
     "data": {
      "text/plain": [
       "MinMaxScaler(copy=True, feature_range=(0, 1))"
      ]
     },
     "execution_count": 39,
     "metadata": {},
     "output_type": "execute_result"
    }
   ],
   "source": [
    "scaler.fit(train)"
   ]
  },
  {
   "cell_type": "code",
   "execution_count": 41,
   "metadata": {},
   "outputs": [],
   "source": [
    "train_scaled = scaler.fit_transform(train)\n",
    "test_scaled = scaler.transform(test)"
   ]
  },
  {
   "cell_type": "code",
   "execution_count": 42,
   "metadata": {},
   "outputs": [],
   "source": [
    "from tensorflow.keras.preprocessing.sequence import TimeseriesGenerator"
   ]
  },
  {
   "cell_type": "code",
   "execution_count": 69,
   "metadata": {},
   "outputs": [],
   "source": [
    "# Generating for batches\n",
    "length = 50\n",
    "batch_size = 1\n",
    "\n",
    "generator = TimeseriesGenerator(train_scaled, train_scaled,\n",
    "                               length=length,\n",
    "                               batch_size=batch_size)"
   ]
  },
  {
   "cell_type": "code",
   "execution_count": 70,
   "metadata": {},
   "outputs": [
    {
     "data": {
      "text/plain": [
       "451"
      ]
     },
     "execution_count": 70,
     "metadata": {},
     "output_type": "execute_result"
    }
   ],
   "source": [
    "len(train_scaled)"
   ]
  },
  {
   "cell_type": "code",
   "execution_count": 71,
   "metadata": {},
   "outputs": [
    {
     "data": {
      "text/plain": [
       "401"
      ]
     },
     "execution_count": 71,
     "metadata": {},
     "output_type": "execute_result"
    }
   ],
   "source": [
    "len(generator)"
   ]
  },
  {
   "cell_type": "code",
   "execution_count": 72,
   "metadata": {},
   "outputs": [],
   "source": [
    "X, y = generator[0]"
   ]
  },
  {
   "cell_type": "code",
   "execution_count": 73,
   "metadata": {},
   "outputs": [
    {
     "data": {
      "text/plain": [
       "array([[[4.99999116e-01],\n",
       "        [5.49916225e-01],\n",
       "        [5.99334579e-01],\n",
       "        [6.47760405e-01],\n",
       "        [6.94709850e-01],\n",
       "        [7.39713809e-01],\n",
       "        [7.82322618e-01],\n",
       "        [8.22110545e-01],\n",
       "        [8.58680040e-01],\n",
       "        [8.91665714e-01],\n",
       "        [9.20737985e-01],\n",
       "        [9.45606372e-01],\n",
       "        [9.66022399e-01],\n",
       "        [9.81782075e-01],\n",
       "        [9.92727935e-01],\n",
       "        [9.98750612e-01],\n",
       "        [9.99789928e-01],\n",
       "        [9.95835500e-01],\n",
       "        [9.86926839e-01],\n",
       "        [9.73152957e-01],\n",
       "        [9.54651478e-01],\n",
       "        [9.31607263e-01],\n",
       "        [9.04250562e-01],\n",
       "        [8.72854714e-01],\n",
       "        [8.37733417e-01],\n",
       "        [7.99237589e-01],\n",
       "        [7.57751870e-01],\n",
       "        [7.13690771e-01],\n",
       "        [6.67494535e-01],\n",
       "        [6.19624741e-01],\n",
       "        [5.70559686e-01],\n",
       "        [5.20789614e-01],\n",
       "        [4.70811810e-01],\n",
       "        [4.21125636e-01],\n",
       "        [3.72227539e-01],\n",
       "        [3.24606094e-01],\n",
       "        [2.78737119e-01],\n",
       "        [2.35078919e-01],\n",
       "        [1.94067715e-01],\n",
       "        [1.56113277e-01],\n",
       "        [1.21594831e-01],\n",
       "        [9.08572769e-02],\n",
       "        [6.42077324e-02],\n",
       "        [4.19124713e-02],\n",
       "        [2.41942605e-02],\n",
       "        [1.12301346e-02],\n",
       "        [3.14962674e-03],\n",
       "        [3.34747619e-05],\n",
       "        [1.91281421e-03],\n",
       "        [8.76886734e-03]]])"
      ]
     },
     "execution_count": 73,
     "metadata": {},
     "output_type": "execute_result"
    }
   ],
   "source": [
    "X"
   ]
  },
  {
   "cell_type": "code",
   "execution_count": 65,
   "metadata": {},
   "outputs": [
    {
     "data": {
      "text/plain": [
       "array([[0.79923759]])"
      ]
     },
     "execution_count": 65,
     "metadata": {},
     "output_type": "execute_result"
    }
   ],
   "source": [
    "y"
   ]
  },
  {
   "cell_type": "code",
   "execution_count": 74,
   "metadata": {},
   "outputs": [],
   "source": [
    "from tensorflow.keras.models import Sequential\n",
    "from tensorflow.keras.layers import Dense, SimpleRNN, LSTM"
   ]
  },
  {
   "cell_type": "code",
   "execution_count": 75,
   "metadata": {},
   "outputs": [],
   "source": [
    "n_features = 1"
   ]
  },
  {
   "cell_type": "code",
   "execution_count": 68,
   "metadata": {},
   "outputs": [],
   "source": [
    "# Need to feed one season; cycle at least"
   ]
  },
  {
   "cell_type": "code",
   "execution_count": 76,
   "metadata": {},
   "outputs": [
    {
     "name": "stdout",
     "output_type": "stream",
     "text": [
      "WARNING:tensorflow:From C:\\Users\\agamm\\Anaconda3\\lib\\site-packages\\tensorflow\\python\\ops\\resource_variable_ops.py:435: colocate_with (from tensorflow.python.framework.ops) is deprecated and will be removed in a future version.\n",
      "Instructions for updating:\n",
      "Colocations handled automatically by placer.\n",
      "WARNING:tensorflow:From C:\\Users\\agamm\\Anaconda3\\lib\\site-packages\\tensorflow\\python\\keras\\utils\\losses_utils.py:170: to_float (from tensorflow.python.ops.math_ops) is deprecated and will be removed in a future version.\n",
      "Instructions for updating:\n",
      "Use tf.cast instead.\n"
     ]
    }
   ],
   "source": [
    "model = Sequential()\n",
    "\n",
    "model.add(SimpleRNN(50, input_shape=(length, n_features)))\n",
    "model.add(Dense(1))\n",
    "\n",
    "model.compile(optimizer='adam', loss='mse')"
   ]
  },
  {
   "cell_type": "code",
   "execution_count": 77,
   "metadata": {},
   "outputs": [
    {
     "name": "stdout",
     "output_type": "stream",
     "text": [
      "_________________________________________________________________\n",
      "Layer (type)                 Output Shape              Param #   \n",
      "=================================================================\n",
      "simple_rnn (SimpleRNN)       (None, 50)                2600      \n",
      "_________________________________________________________________\n",
      "dense (Dense)                (None, 1)                 51        \n",
      "=================================================================\n",
      "Total params: 2,651\n",
      "Trainable params: 2,651\n",
      "Non-trainable params: 0\n",
      "_________________________________________________________________\n"
     ]
    }
   ],
   "source": [
    "model.summary()"
   ]
  },
  {
   "cell_type": "code",
   "execution_count": 78,
   "metadata": {},
   "outputs": [
    {
     "name": "stdout",
     "output_type": "stream",
     "text": [
      "WARNING:tensorflow:From C:\\Users\\agamm\\Anaconda3\\lib\\site-packages\\tensorflow\\python\\ops\\math_ops.py:3066: to_int32 (from tensorflow.python.ops.math_ops) is deprecated and will be removed in a future version.\n",
      "Instructions for updating:\n",
      "Use tf.cast instead.\n",
      "Epoch 1/5\n",
      "401/401 [==============================] - 6s 15ms/step - loss: 0.0059\n",
      "Epoch 2/5\n",
      "401/401 [==============================] - 4s 11ms/step - loss: 2.7162e-04\n",
      "Epoch 3/5\n",
      "401/401 [==============================] - 4s 10ms/step - loss: 7.5933e-04\n",
      "Epoch 4/5\n",
      "401/401 [==============================] - 5s 12ms/step - loss: 2.2549e-05\n",
      "Epoch 5/5\n",
      "401/401 [==============================] - 5s 11ms/step - loss: 8.9571e-06\n"
     ]
    },
    {
     "data": {
      "text/plain": [
       "<tensorflow.python.keras.callbacks.History at 0x29df4f99688>"
      ]
     },
     "execution_count": 78,
     "metadata": {},
     "output_type": "execute_result"
    }
   ],
   "source": [
    "model.fit_generator(generator, epochs=5)"
   ]
  },
  {
   "cell_type": "code",
   "execution_count": 79,
   "metadata": {},
   "outputs": [],
   "source": [
    "loss = pd.DataFrame(model.history.history)"
   ]
  },
  {
   "cell_type": "code",
   "execution_count": 80,
   "metadata": {},
   "outputs": [
    {
     "data": {
      "text/plain": [
       "[<matplotlib.lines.Line2D at 0x29df3519c88>]"
      ]
     },
     "execution_count": 80,
     "metadata": {},
     "output_type": "execute_result"
    },
    {
     "data": {
      "image/png": "[encoded data removed]",
      "text/plain": [
       "<Figure size 432x288 with 1 Axes>"
      ]
     },
     "metadata": {
      "needs_background": "light"
     },
     "output_type": "display_data"
    }
   ],
   "source": [
    "plt.plot(loss)"
   ]
  },
  {
   "cell_type": "code",
   "execution_count": 81,
   "metadata": {},
   "outputs": [],
   "source": [
    "first_eval_batch = train_scaled[-length:]"
   ]
  },
  {
   "cell_type": "code",
   "execution_count": 83,
   "metadata": {},
   "outputs": [
    {
     "data": {
      "text/plain": [
       "50"
      ]
     },
     "execution_count": 83,
     "metadata": {},
     "output_type": "execute_result"
    }
   ],
   "source": [
    "len(first_eval_batch)"
   ]
  },
  {
   "cell_type": "code",
   "execution_count": 85,
   "metadata": {},
   "outputs": [],
   "source": [
    "first_eval_batch = first_eval_batch.reshape((1, length, n_features))"
   ]
  },
  {
   "cell_type": "code",
   "execution_count": 86,
   "metadata": {},
   "outputs": [
    {
     "data": {
      "text/plain": [
       "array([[0.9497892]], dtype=float32)"
      ]
     },
     "execution_count": 86,
     "metadata": {},
     "output_type": "execute_result"
    }
   ],
   "source": [
    "model.predict(first_eval_batch)"
   ]
  },
  {
   "cell_type": "code",
   "execution_count": 87,
   "metadata": {},
   "outputs": [
    {
     "data": {
      "text/plain": [
       "array([0.94955134])"
      ]
     },
     "execution_count": 87,
     "metadata": {},
     "output_type": "execute_result"
    }
   ],
   "source": [
    "test_scaled[0]"
   ]
  },
  {
   "cell_type": "code",
   "execution_count": 88,
   "metadata": {},
   "outputs": [],
   "source": [
    "test_predictions = []\n",
    "\n",
    "first_eval_batch = train_scaled[-length:]\n",
    "current_batch = first_eval_batch.reshape((1, length, n_features))\n",
    "\n"
   ]
  },
  {
   "cell_type": "code",
   "execution_count": 91,
   "metadata": {
    "collapsed": true
   },
   "outputs": [
    {
     "data": {
      "text/plain": [
       "array([[[7.98881698e-01],\n",
       "        [7.57371240e-01],\n",
       "        [7.13289205e-01],\n",
       "        [6.67076045e-01],\n",
       "        [6.19193508e-01],\n",
       "        [5.70120021e-01],\n",
       "        [5.20345908e-01],\n",
       "        [4.70368497e-01],\n",
       "        [4.20687145e-01],\n",
       "        [3.71798252e-01],\n",
       "        [3.24190300e-01],\n",
       "        [2.78338972e-01],\n",
       "        [2.34702398e-01],\n",
       "        [1.93716581e-01],\n",
       "        [1.55791039e-01],\n",
       "        [1.21304709e-01],\n",
       "        [9.06021693e-02],\n",
       "        [6.39901882e-02],\n",
       "        [4.17346643e-02],\n",
       "        [2.40579672e-02],\n",
       "        [1.11367167e-02],\n",
       "        [3.10001778e-03],\n",
       "        [2.81703720e-05],\n",
       "        [1.95186738e-03],\n",
       "        [8.85188786e-03],\n",
       "        [2.06592891e-02],\n",
       "        [3.72560954e-02],\n",
       "        [5.84764771e-02],\n",
       "        [8.41084070e-02],\n",
       "        [1.13895779e-01],\n",
       "        [1.47540969e-01],\n",
       "        [1.84707803e-01],\n",
       "        [2.25024924e-01],\n",
       "        [2.68089497e-01],\n",
       "        [3.13471233e-01],\n",
       "        [3.60716695e-01],\n",
       "        [4.09353821e-01],\n",
       "        [4.58896644e-01],\n",
       "        [5.08850150e-01],\n",
       "        [5.58715219e-01],\n",
       "        [6.07993616e-01],\n",
       "        [6.56192968e-01],\n",
       "        [7.02831682e-01],\n",
       "        [7.47443761e-01],\n",
       "        [7.89583454e-01],\n",
       "        [8.28829716e-01],\n",
       "        [8.64790412e-01],\n",
       "        [8.97106234e-01],\n",
       "        [9.25454293e-01],\n",
       "        [9.90000000e+01]]])"
      ]
     },
     "execution_count": 91,
     "metadata": {},
     "output_type": "execute_result"
    }
   ],
   "source": [
    "# predicted = [[[99]]]\n",
    "# np.append(current_batch[:, 1:, :],predicted, axis=1)"
   ]
  },
  {
   "cell_type": "code",
   "execution_count": 121,
   "metadata": {},
   "outputs": [],
   "source": [
    "test_predictions = []\n",
    "\n",
    "first_eval_batch = train_scaled[-length:]\n",
    "current_batch = first_eval_batch.reshape((1, length, n_features))\n",
    "\n",
    "for i in range(len(test)):\n",
    "    current_pred = model.predict(current_batch)[0]\n",
    "    test_predictions.append(current_pred)\n",
    "    current_batch =  np.append(current_batch[:, 1:, :], [[current_pred]] , axis=1)"
   ]
  },
  {
   "cell_type": "code",
   "execution_count": null,
   "metadata": {},
   "outputs": [],
   "source": []
  },
  {
   "cell_type": "code",
   "execution_count": 124,
   "metadata": {},
   "outputs": [
    {
     "name": "stderr",
     "output_type": "stream",
     "text": [
      "C:\\Users\\agamm\\Anaconda3\\lib\\site-packages\\ipykernel_launcher.py:2: SettingWithCopyWarning: \n",
      "A value is trying to be set on a copy of a slice from a DataFrame.\n",
      "Try using .loc[row_indexer,col_indexer] = value instead\n",
      "\n",
      "See the caveats in the documentation: https://pandas.pydata.org/pandas-docs/stable/user_guide/indexing.html#returning-a-view-versus-a-copy\n",
      "  \n"
     ]
    }
   ],
   "source": [
    "true_predictions = scaler.inverse_transform(test_predictions)\n",
    "test['Predictions'] = true_predictions"
   ]
  },
  {
   "cell_type": "code",
   "execution_count": 123,
   "metadata": {},
   "outputs": [
    {
     "data": {
      "text/html": [
       "<div>\n",
       "<style scoped>\n",
       "    .dataframe tbody tr th:only-of-type {\n",
       "        vertical-align: middle;\n",
       "    }\n",
       "\n",
       "    .dataframe tbody tr th {\n",
       "        vertical-align: top;\n",
       "    }\n",
       "\n",
       "    .dataframe thead th {\n",
       "        text-align: right;\n",
       "    }\n",
       "</style>\n",
       "<table border=\"1\" class=\"dataframe\">\n",
       "  <thead>\n",
       "    <tr style=\"text-align: right;\">\n",
       "      <th></th>\n",
       "      <th>sine</th>\n",
       "      <th>Predictions</th>\n",
       "      <th>LSTMPredictions</th>\n",
       "    </tr>\n",
       "  </thead>\n",
       "  <tbody>\n",
       "    <tr>\n",
       "      <th>45.1</th>\n",
       "      <td>0.899097</td>\n",
       "      <td>0.908176</td>\n",
       "      <td>0.908176</td>\n",
       "    </tr>\n",
       "    <tr>\n",
       "      <th>45.2</th>\n",
       "      <td>0.938307</td>\n",
       "      <td>0.946886</td>\n",
       "      <td>0.946886</td>\n",
       "    </tr>\n",
       "    <tr>\n",
       "      <th>45.3</th>\n",
       "      <td>0.968142</td>\n",
       "      <td>0.976233</td>\n",
       "      <td>0.976233</td>\n",
       "    </tr>\n",
       "    <tr>\n",
       "      <th>45.4</th>\n",
       "      <td>0.988304</td>\n",
       "      <td>0.995825</td>\n",
       "      <td>0.995825</td>\n",
       "    </tr>\n",
       "    <tr>\n",
       "      <th>45.5</th>\n",
       "      <td>0.998591</td>\n",
       "      <td>1.005465</td>\n",
       "      <td>1.005465</td>\n",
       "    </tr>\n",
       "    <tr>\n",
       "      <th>45.6</th>\n",
       "      <td>0.998900</td>\n",
       "      <td>1.005112</td>\n",
       "      <td>1.005112</td>\n",
       "    </tr>\n",
       "    <tr>\n",
       "      <th>45.7</th>\n",
       "      <td>0.989229</td>\n",
       "      <td>0.994853</td>\n",
       "      <td>0.994853</td>\n",
       "    </tr>\n",
       "    <tr>\n",
       "      <th>45.8</th>\n",
       "      <td>0.969673</td>\n",
       "      <td>0.974890</td>\n",
       "      <td>0.974890</td>\n",
       "    </tr>\n",
       "    <tr>\n",
       "      <th>45.9</th>\n",
       "      <td>0.940429</td>\n",
       "      <td>0.945516</td>\n",
       "      <td>0.945516</td>\n",
       "    </tr>\n",
       "    <tr>\n",
       "      <th>46.0</th>\n",
       "      <td>0.901788</td>\n",
       "      <td>0.907107</td>\n",
       "      <td>0.907107</td>\n",
       "    </tr>\n",
       "    <tr>\n",
       "      <th>46.1</th>\n",
       "      <td>0.854137</td>\n",
       "      <td>0.860106</td>\n",
       "      <td>0.860106</td>\n",
       "    </tr>\n",
       "    <tr>\n",
       "      <th>46.2</th>\n",
       "      <td>0.797952</td>\n",
       "      <td>0.805019</td>\n",
       "      <td>0.805019</td>\n",
       "    </tr>\n",
       "    <tr>\n",
       "      <th>46.3</th>\n",
       "      <td>0.733794</td>\n",
       "      <td>0.742401</td>\n",
       "      <td>0.742401</td>\n",
       "    </tr>\n",
       "    <tr>\n",
       "      <th>46.4</th>\n",
       "      <td>0.662304</td>\n",
       "      <td>0.672857</td>\n",
       "      <td>0.672857</td>\n",
       "    </tr>\n",
       "    <tr>\n",
       "      <th>46.5</th>\n",
       "      <td>0.584197</td>\n",
       "      <td>0.597039</td>\n",
       "      <td>0.597039</td>\n",
       "    </tr>\n",
       "    <tr>\n",
       "      <th>46.6</th>\n",
       "      <td>0.500252</td>\n",
       "      <td>0.515644</td>\n",
       "      <td>0.515644</td>\n",
       "    </tr>\n",
       "    <tr>\n",
       "      <th>46.7</th>\n",
       "      <td>0.411309</td>\n",
       "      <td>0.429411</td>\n",
       "      <td>0.429411</td>\n",
       "    </tr>\n",
       "    <tr>\n",
       "      <th>46.8</th>\n",
       "      <td>0.318257</td>\n",
       "      <td>0.339125</td>\n",
       "      <td>0.339125</td>\n",
       "    </tr>\n",
       "    <tr>\n",
       "      <th>46.9</th>\n",
       "      <td>0.222024</td>\n",
       "      <td>0.245610</td>\n",
       "      <td>0.245610</td>\n",
       "    </tr>\n",
       "    <tr>\n",
       "      <th>47.0</th>\n",
       "      <td>0.123573</td>\n",
       "      <td>0.149724</td>\n",
       "      <td>0.149724</td>\n",
       "    </tr>\n",
       "    <tr>\n",
       "      <th>47.1</th>\n",
       "      <td>0.023888</td>\n",
       "      <td>0.052356</td>\n",
       "      <td>0.052356</td>\n",
       "    </tr>\n",
       "    <tr>\n",
       "      <th>47.2</th>\n",
       "      <td>-0.076037</td>\n",
       "      <td>-0.045584</td>\n",
       "      <td>-0.045584</td>\n",
       "    </tr>\n",
       "    <tr>\n",
       "      <th>47.3</th>\n",
       "      <td>-0.175201</td>\n",
       "      <td>-0.143175</td>\n",
       "      <td>-0.143175</td>\n",
       "    </tr>\n",
       "    <tr>\n",
       "      <th>47.4</th>\n",
       "      <td>-0.272615</td>\n",
       "      <td>-0.239496</td>\n",
       "      <td>-0.239496</td>\n",
       "    </tr>\n",
       "    <tr>\n",
       "      <th>47.5</th>\n",
       "      <td>-0.367305</td>\n",
       "      <td>-0.333632</td>\n",
       "      <td>-0.333632</td>\n",
       "    </tr>\n",
       "    <tr>\n",
       "      <th>47.6</th>\n",
       "      <td>-0.458325</td>\n",
       "      <td>-0.424686</td>\n",
       "      <td>-0.424686</td>\n",
       "    </tr>\n",
       "    <tr>\n",
       "      <th>47.7</th>\n",
       "      <td>-0.544766</td>\n",
       "      <td>-0.511779</td>\n",
       "      <td>-0.511779</td>\n",
       "    </tr>\n",
       "    <tr>\n",
       "      <th>47.8</th>\n",
       "      <td>-0.625764</td>\n",
       "      <td>-0.594057</td>\n",
       "      <td>-0.594057</td>\n",
       "    </tr>\n",
       "    <tr>\n",
       "      <th>47.9</th>\n",
       "      <td>-0.700509</td>\n",
       "      <td>-0.670687</td>\n",
       "      <td>-0.670687</td>\n",
       "    </tr>\n",
       "    <tr>\n",
       "      <th>48.0</th>\n",
       "      <td>-0.768255</td>\n",
       "      <td>-0.740867</td>\n",
       "      <td>-0.740867</td>\n",
       "    </tr>\n",
       "    <tr>\n",
       "      <th>48.1</th>\n",
       "      <td>-0.828324</td>\n",
       "      <td>-0.803826</td>\n",
       "      <td>-0.803826</td>\n",
       "    </tr>\n",
       "    <tr>\n",
       "      <th>48.2</th>\n",
       "      <td>-0.880118</td>\n",
       "      <td>-0.858840</td>\n",
       "      <td>-0.858840</td>\n",
       "    </tr>\n",
       "    <tr>\n",
       "      <th>48.3</th>\n",
       "      <td>-0.923117</td>\n",
       "      <td>-0.905251</td>\n",
       "      <td>-0.905251</td>\n",
       "    </tr>\n",
       "    <tr>\n",
       "      <th>48.4</th>\n",
       "      <td>-0.956893</td>\n",
       "      <td>-0.942484</td>\n",
       "      <td>-0.942484</td>\n",
       "    </tr>\n",
       "    <tr>\n",
       "      <th>48.5</th>\n",
       "      <td>-0.981108</td>\n",
       "      <td>-0.970077</td>\n",
       "      <td>-0.970077</td>\n",
       "    </tr>\n",
       "    <tr>\n",
       "      <th>48.6</th>\n",
       "      <td>-0.995521</td>\n",
       "      <td>-0.987695</td>\n",
       "      <td>-0.987695</td>\n",
       "    </tr>\n",
       "    <tr>\n",
       "      <th>48.7</th>\n",
       "      <td>-0.999986</td>\n",
       "      <td>-0.995150</td>\n",
       "      <td>-0.995150</td>\n",
       "    </tr>\n",
       "    <tr>\n",
       "      <th>48.8</th>\n",
       "      <td>-0.994460</td>\n",
       "      <td>-0.992398</td>\n",
       "      <td>-0.992398</td>\n",
       "    </tr>\n",
       "    <tr>\n",
       "      <th>48.9</th>\n",
       "      <td>-0.978997</td>\n",
       "      <td>-0.979541</td>\n",
       "      <td>-0.979541</td>\n",
       "    </tr>\n",
       "    <tr>\n",
       "      <th>49.0</th>\n",
       "      <td>-0.953753</td>\n",
       "      <td>-0.956815</td>\n",
       "      <td>-0.956815</td>\n",
       "    </tr>\n",
       "    <tr>\n",
       "      <th>49.1</th>\n",
       "      <td>-0.918979</td>\n",
       "      <td>-0.924570</td>\n",
       "      <td>-0.924570</td>\n",
       "    </tr>\n",
       "    <tr>\n",
       "      <th>49.2</th>\n",
       "      <td>-0.875023</td>\n",
       "      <td>-0.883251</td>\n",
       "      <td>-0.883251</td>\n",
       "    </tr>\n",
       "    <tr>\n",
       "      <th>49.3</th>\n",
       "      <td>-0.822324</td>\n",
       "      <td>-0.833383</td>\n",
       "      <td>-0.833383</td>\n",
       "    </tr>\n",
       "    <tr>\n",
       "      <th>49.4</th>\n",
       "      <td>-0.761408</td>\n",
       "      <td>-0.775548</td>\n",
       "      <td>-0.775548</td>\n",
       "    </tr>\n",
       "    <tr>\n",
       "      <th>49.5</th>\n",
       "      <td>-0.692885</td>\n",
       "      <td>-0.710372</td>\n",
       "      <td>-0.710372</td>\n",
       "    </tr>\n",
       "    <tr>\n",
       "      <th>49.6</th>\n",
       "      <td>-0.617439</td>\n",
       "      <td>-0.638516</td>\n",
       "      <td>-0.638516</td>\n",
       "    </tr>\n",
       "    <tr>\n",
       "      <th>49.7</th>\n",
       "      <td>-0.535823</td>\n",
       "      <td>-0.560666</td>\n",
       "      <td>-0.560666</td>\n",
       "    </tr>\n",
       "    <tr>\n",
       "      <th>49.8</th>\n",
       "      <td>-0.448854</td>\n",
       "      <td>-0.477532</td>\n",
       "      <td>-0.477532</td>\n",
       "    </tr>\n",
       "    <tr>\n",
       "      <th>49.9</th>\n",
       "      <td>-0.357400</td>\n",
       "      <td>-0.389845</td>\n",
       "      <td>-0.389845</td>\n",
       "    </tr>\n",
       "    <tr>\n",
       "      <th>50.0</th>\n",
       "      <td>-0.262375</td>\n",
       "      <td>-0.298359</td>\n",
       "      <td>-0.298359</td>\n",
       "    </tr>\n",
       "  </tbody>\n",
       "</table>\n",
       "</div>"
      ],
      "text/plain": [
       "          sine  Predictions  LSTMPredictions\n",
       "45.1  0.899097     0.908176         0.908176\n",
       "45.2  0.938307     0.946886         0.946886\n",
       "45.3  0.968142     0.976233         0.976233\n",
       "45.4  0.988304     0.995825         0.995825\n",
       "45.5  0.998591     1.005465         1.005465\n",
       "45.6  0.998900     1.005112         1.005112\n",
       "45.7  0.989229     0.994853         0.994853\n",
       "45.8  0.969673     0.974890         0.974890\n",
       "45.9  0.940429     0.945516         0.945516\n",
       "46.0  0.901788     0.907107         0.907107\n",
       "46.1  0.854137     0.860106         0.860106\n",
       "46.2  0.797952     0.805019         0.805019\n",
       "46.3  0.733794     0.742401         0.742401\n",
       "46.4  0.662304     0.672857         0.672857\n",
       "46.5  0.584197     0.597039         0.597039\n",
       "46.6  0.500252     0.515644         0.515644\n",
       "46.7  0.411309     0.429411         0.429411\n",
       "46.8  0.318257     0.339125         0.339125\n",
       "46.9  0.222024     0.245610         0.245610\n",
       "47.0  0.123573     0.149724         0.149724\n",
       "47.1  0.023888     0.052356         0.052356\n",
       "47.2 -0.076037    -0.045584        -0.045584\n",
       "47.3 -0.175201    -0.143175        -0.143175\n",
       "47.4 -0.272615    -0.239496        -0.239496\n",
       "47.5 -0.367305    -0.333632        -0.333632\n",
       "47.6 -0.458325    -0.424686        -0.424686\n",
       "47.7 -0.544766    -0.511779        -0.511779\n",
       "47.8 -0.625764    -0.594057        -0.594057\n",
       "47.9 -0.700509    -0.670687        -0.670687\n",
       "48.0 -0.768255    -0.740867        -0.740867\n",
       "48.1 -0.828324    -0.803826        -0.803826\n",
       "48.2 -0.880118    -0.858840        -0.858840\n",
       "48.3 -0.923117    -0.905251        -0.905251\n",
       "48.4 -0.956893    -0.942484        -0.942484\n",
       "48.5 -0.981108    -0.970077        -0.970077\n",
       "48.6 -0.995521    -0.987695        -0.987695\n",
       "48.7 -0.999986    -0.995150        -0.995150\n",
       "48.8 -0.994460    -0.992398        -0.992398\n",
       "48.9 -0.978997    -0.979541        -0.979541\n",
       "49.0 -0.953753    -0.956815        -0.956815\n",
       "49.1 -0.918979    -0.924570        -0.924570\n",
       "49.2 -0.875023    -0.883251        -0.883251\n",
       "49.3 -0.822324    -0.833383        -0.833383\n",
       "49.4 -0.761408    -0.775548        -0.775548\n",
       "49.5 -0.692885    -0.710372        -0.710372\n",
       "49.6 -0.617439    -0.638516        -0.638516\n",
       "49.7 -0.535823    -0.560666        -0.560666\n",
       "49.8 -0.448854    -0.477532        -0.477532\n",
       "49.9 -0.357400    -0.389845        -0.389845\n",
       "50.0 -0.262375    -0.298359        -0.298359"
      ]
     },
     "execution_count": 123,
     "metadata": {},
     "output_type": "execute_result"
    }
   ],
   "source": [
    "test"
   ]
  },
  {
   "cell_type": "code",
   "execution_count": 126,
   "metadata": {},
   "outputs": [
    {
     "data": {
      "text/plain": [
       "<matplotlib.axes._subplots.AxesSubplot at 0x29df2e4d648>"
      ]
     },
     "execution_count": 126,
     "metadata": {},
     "output_type": "execute_result"
    },
    {
     "data": {
      "image/png": "[encoded data removed]",
      "text/plain": [
       "<Figure size 432x288 with 1 Axes>"
      ]
     },
     "metadata": {
      "needs_background": "light"
     },
     "output_type": "display_data"
    }
   ],
   "source": [
    "test.plot()"
   ]
  },
  {
   "cell_type": "code",
   "execution_count": 127,
   "metadata": {},
   "outputs": [],
   "source": [
    "from tensorflow.keras.callbacks import EarlyStopping"
   ]
  },
  {
   "cell_type": "code",
   "execution_count": 128,
   "metadata": {},
   "outputs": [],
   "source": [
    "early_stop = EarlyStopping(monitor='val_loss', patience=2)"
   ]
  },
  {
   "cell_type": "code",
   "execution_count": 129,
   "metadata": {},
   "outputs": [],
   "source": [
    "length = 49\n",
    "generator = TimeseriesGenerator(train_scaled, train_scaled, length=length, batch_size=1)\n",
    "\n",
    "validation_generator = TimeseriesGenerator(test_scaled, test_scaled, length=length, batch_size=1)"
   ]
  },
  {
   "cell_type": "code",
   "execution_count": 130,
   "metadata": {},
   "outputs": [],
   "source": [
    "model = Sequential()\n",
    "\n",
    "model.add(LSTM(50, input_shape=(length, n_features)))\n",
    "model.add(Dense(1))\n",
    "model.compile(optimizer='adam', loss='mse')"
   ]
  },
  {
   "cell_type": "code",
   "execution_count": null,
   "metadata": {},
   "outputs": [],
   "source": [
    "model.fit_generator(generator, epochs=20, validation_data=validation_generator, callbacks=[early_stop])"
   ]
  },
  {
   "cell_type": "code",
   "execution_count": 132,
   "metadata": {},
   "outputs": [],
   "source": [
    "test_predictions = []\n",
    "\n",
    "first_eval_batch = train_scaled[-length:]\n",
    "current_batch = first_eval_batch.reshape((1, length, n_features))\n",
    "\n",
    "for i in range(len(test)):\n",
    "    current_pred = model.predict(current_batch)[0]\n",
    "    test_predictions.append(current_pred)\n",
    "    current_batch =  np.append(current_batch[:, 1:, :], [[current_pred]] , axis=1)"
   ]
  },
  {
   "cell_type": "code",
   "execution_count": 133,
   "metadata": {},
   "outputs": [
    {
     "name": "stderr",
     "output_type": "stream",
     "text": [
      "C:\\Users\\agamm\\Anaconda3\\lib\\site-packages\\ipykernel_launcher.py:2: SettingWithCopyWarning: \n",
      "A value is trying to be set on a copy of a slice from a DataFrame.\n",
      "Try using .loc[row_indexer,col_indexer] = value instead\n",
      "\n",
      "See the caveats in the documentation: https://pandas.pydata.org/pandas-docs/stable/user_guide/indexing.html#returning-a-view-versus-a-copy\n",
      "  \n"
     ]
    },
    {
     "data": {
      "text/plain": [
       "<matplotlib.axes._subplots.AxesSubplot at 0x29dfd17a408>"
      ]
     },
     "execution_count": 133,
     "metadata": {},
     "output_type": "execute_result"
    },
    {
     "data": {
      "image/png": "[encoded data removed]",
      "text/plain": [
       "<Figure size 864x576 with 1 Axes>"
      ]
     },
     "metadata": {
      "needs_background": "light"
     },
     "output_type": "display_data"
    }
   ],
   "source": [
    "true_predictions = scaler.inverse_transform(test_predictions)\n",
    "test['LSTMPredictions'] = true_predictions\n",
    "test.plot(figsize=(12,8))"
   ]
  },
  {
   "cell_type": "code",
   "execution_count": 137,
   "metadata": {},
   "outputs": [],
   "source": [
    "full_scaler = MinMaxScaler()\n",
    "scaled_all_data = full_scaler.fit_transform(df)"
   ]
  },
  {
   "cell_type": "code",
   "execution_count": 139,
   "metadata": {},
   "outputs": [],
   "source": [
    "full_generator = TimeseriesGenerator(scaled_all_data, scaled_all_data, length=length, batch_size=1)"
   ]
  },
  {
   "cell_type": "code",
   "execution_count": 140,
   "metadata": {},
   "outputs": [],
   "source": [
    "model = Sequential()\n",
    "\n",
    "model.add(LSTM(50, input_shape=(length, n_features)))\n",
    "model.add(Dense(1))\n",
    "model.compile(optimizer='adam', loss='mse')"
   ]
  },
  {
   "cell_type": "code",
   "execution_count": 141,
   "metadata": {},
   "outputs": [
    {
     "name": "stdout",
     "output_type": "stream",
     "text": [
      "Epoch 1/6\n",
      "402/402 [==============================] - 21s 53ms/step - loss: 0.0208 3s - lo\n",
      "Epoch 2/6\n",
      "402/402 [==============================] - 19s 48ms/step - loss: 3.2330e-04\n",
      "Epoch 3/6\n",
      "402/402 [==============================] - 20s 49ms/step - loss: 1.0657e-04\n",
      "Epoch 4/6\n",
      "402/402 [==============================] - 19s 48ms/step - loss: 9.8219e-04\n",
      "Epoch 5/6\n",
      "402/402 [==============================] - 21s 51ms/step - loss: 3.0111e-05 1 - ETA: 0s - loss: 3.\n",
      "Epoch 6/6\n",
      "402/402 [==============================] - 22s 55ms/step - loss: 1.8314e-05\n"
     ]
    },
    {
     "data": {
      "text/plain": [
       "<tensorflow.python.keras.callbacks.History at 0x29dfe1d9bc8>"
      ]
     },
     "execution_count": 141,
     "metadata": {},
     "output_type": "execute_result"
    }
   ],
   "source": [
    "model.fit_generator(generator, epochs=6)"
   ]
  },
  {
   "cell_type": "code",
   "execution_count": 142,
   "metadata": {},
   "outputs": [],
   "source": [
    "forecast = []\n",
    "\n",
    "first_eval_batch = train_scaled[-length:]\n",
    "current_batch = first_eval_batch.reshape((1, length, n_features))\n",
    "\n",
    "for i in range(25):\n",
    "    current_pred = model.predict(current_batch)[0]\n",
    "    forecast.append(current_pred)\n",
    "    current_batch =  np.append(current_batch[:, 1:, :], [[current_pred]] , axis=1)"
   ]
  },
  {
   "cell_type": "code",
   "execution_count": 146,
   "metadata": {},
   "outputs": [],
   "source": [
    "forecast = scaler.inverse_transform(forecast)\n",
    "\n",
    "forecast_index = np.arange(50.1, 52.6, step=0.1)"
   ]
  },
  {
   "cell_type": "code",
   "execution_count": 147,
   "metadata": {},
   "outputs": [
    {
     "data": {
      "text/plain": [
       "25"
      ]
     },
     "execution_count": 147,
     "metadata": {},
     "output_type": "execute_result"
    }
   ],
   "source": [
    "len(forecast_index)"
   ]
  },
  {
   "cell_type": "code",
   "execution_count": 149,
   "metadata": {},
   "outputs": [
    {
     "data": {
      "text/plain": [
       "[<matplotlib.lines.Line2D at 0x29dff34da08>]"
      ]
     },
     "execution_count": 149,
     "metadata": {},
     "output_type": "execute_result"
    },
    {
     "data": {
      "image/png": "[encoded data removed]",
      "text/plain": [
       "<Figure size 432x288 with 1 Axes>"
      ]
     },
     "metadata": {
      "needs_background": "light"
     },
     "output_type": "display_data"
    }
   ],
   "source": [
    "plt.plot(df.index, df['sine'])\n",
    "plt.plot(forecast_index, forecast)"
   ]
  },
  {
   "cell_type": "code",
   "execution_count": null,
   "metadata": {},
   "outputs": [],
   "source": []
  }
 ],
 "metadata": {
  "kernelspec": {
   "display_name": "Python 3",
   "language": "python",
   "name": "python3"
  },
  "language_info": {
   "codemirror_mode": {
    "name": "ipython",
    "version": 3
   },
   "file_extension": ".py",
   "mimetype": "text/x-python",
   "name": "python",
   "nbconvert_exporter": "python",
   "pygments_lexer": "ipython3",
   "version": "3.7.6"
  }
 },
 "nbformat": 4,
 "nbformat_minor": 4
}
